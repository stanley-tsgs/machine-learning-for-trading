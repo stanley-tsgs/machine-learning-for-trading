{
 "cells": [
  {
   "cell_type": "markdown",
   "metadata": {},
   "source": [
    "# Long-Short Strategy, Part 1: Preparing Alpha Factors and Features\n"
   ]
  },
  {
   "cell_type": "markdown",
   "metadata": {},
   "source": [
    "In this section, we'll start designing, implementing, and evaluating a trading strategy for US equities driven by daily return forecasts produced by gradient boosting models.\n",
    "\n",
    "As in the previous examples, we'll lay out a framework and build a specific example that you can adapt to run your own experiments. There are numerous aspects that you can vary, from the asset class and investment universe to more granular aspects like the features, holding period, or trading rules. See, for example, the **Alpha Factor Library** in the [Appendix](../24_alpha_factor_library) for numerous additional features.\n",
    "\n",
    "We'll keep the trading strategy simple and only use a single ML signal; a real-life application will likely use multiple signals from different sources, such as complementary ML models trained on different datasets or with different lookahead or lookback periods. It would also use sophisticated risk management, from simple stop-loss to value-at-risk analysis.\n",
    "\n",
    "**Six notebooks** cover our workflow sequence:\n",
    "\n",
    "1. `preparing_the_model_data` (this noteboook): we'll engineer a few simple features from the Quandl Wiki data\n",
    "2. [trading_signals_with_lightgbm_and_catboost](05_trading_signals_with_lightgbm_and_catboost.ipynb): we tune hyperparameters for LightGBM and CatBoost to select a model, using 2015/16 as our validation period.\n",
    "3. [evaluate_trading_signals](06_evaluate_trading_signals.ipynb): we compare the cross-validation performance using various metrics to select the best model.\n",
    "4. [model_interpretation](07_model_interpretation.ipynb): we take a closer look at the drivers behind the best model's predictions.\n",
    "5. [making_out_of_sample_predictions](08_making_out_of_sample_predictions.ipynb): we generate predictions for our out-of-sample test period 2017.\n",
    "6. [backtesting_with_zipline](09_backtesting_with_zipline.ipynb): evaluate the historical performance of a long-short strategy based on our predictive signals using Zipline.\n"
   ]
  },
  {
   "cell_type": "markdown",
   "metadata": {},
   "source": [
    "## Imports & Settings\n"
   ]
  },
  {
   "cell_type": "code",
   "execution_count": 52,
   "metadata": {
    "ExecuteTime": {
     "end_time": "2021-02-25T02:25:40.960749Z",
     "start_time": "2021-02-25T02:25:40.958783Z"
    }
   },
   "outputs": [],
   "source": [
    "import warnings\n",
    "warnings.filterwarnings('ignore')"
   ]
  },
  {
   "cell_type": "code",
   "execution_count": 53,
   "metadata": {
    "ExecuteTime": {
     "end_time": "2021-02-25T02:25:41.685336Z",
     "start_time": "2021-02-25T02:25:40.966186Z"
    }
   },
   "outputs": [],
   "source": [
    "%matplotlib inline\n",
    "import numpy as np\n",
    "import pandas as pd\n",
    "import matplotlib.pyplot as plt\n",
    "import seaborn as sns\n",
    "import talib\n",
    "from talib import RSI, BBANDS, MACD, ATR"
   ]
  },
  {
   "cell_type": "code",
   "execution_count": 54,
   "metadata": {
    "ExecuteTime": {
     "end_time": "2021-02-25T02:25:41.689152Z",
     "start_time": "2021-02-25T02:25:41.686291Z"
    }
   },
   "outputs": [],
   "source": [
    "MONTH = 21  # days\n",
    "YEAR = 12 * MONTH  # 252 days"
   ]
  },
  {
   "cell_type": "code",
   "execution_count": 55,
   "metadata": {
    "ExecuteTime": {
     "end_time": "2021-02-25T02:25:41.701014Z",
     "start_time": "2021-02-25T02:25:41.690760Z"
    }
   },
   "outputs": [],
   "source": [
    "START = '2010-01-01'\n",
    "END = '2017-12-31'"
   ]
  },
  {
   "cell_type": "code",
   "execution_count": 56,
   "metadata": {
    "ExecuteTime": {
     "end_time": "2021-02-25T02:25:41.710405Z",
     "start_time": "2021-02-25T02:25:41.702050Z"
    }
   },
   "outputs": [],
   "source": [
    "sns.set_style('darkgrid')\n",
    "idx = pd.IndexSlice"
   ]
  },
  {
   "cell_type": "code",
   "execution_count": 57,
   "metadata": {
    "ExecuteTime": {
     "end_time": "2021-02-25T02:25:41.719203Z",
     "start_time": "2021-02-25T02:25:41.711268Z"
    }
   },
   "outputs": [
    {
     "data": {
      "text/plain": [
       "[0.001, 0.01, 0.02, 0.03, 0.04, 0.05, 0.95, 0.96, 0.97, 0.98, 0.99, 0.999]"
      ]
     },
     "execution_count": 57,
     "metadata": {},
     "output_type": "execute_result"
    }
   ],
   "source": [
    "percentiles = [.001, .01, .02, .03, .04, .05]\n",
    "percentiles += [1-p for p in percentiles[::-1]]\n",
    "percentiles"
   ]
  },
  {
   "cell_type": "code",
   "execution_count": 58,
   "metadata": {
    "ExecuteTime": {
     "end_time": "2021-02-25T02:25:41.728454Z",
     "start_time": "2021-02-25T02:25:41.720239Z"
    }
   },
   "outputs": [],
   "source": [
    "T = [1, 5, 10, 21, 42, 63]"
   ]
  },
  {
   "cell_type": "markdown",
   "metadata": {},
   "source": [
    "## Loading Quandl Wiki Stock Prices & Meta Data\n"
   ]
  },
  {
   "cell_type": "code",
   "execution_count": 59,
   "metadata": {
    "ExecuteTime": {
     "end_time": "2021-02-25T02:25:49.504343Z",
     "start_time": "2021-02-25T02:25:41.730118Z"
    }
   },
   "outputs": [],
   "source": [
    "DATA_STORE = '../data/assets.h5'\n",
    "ohlcv = ['adj_open', 'adj_close', 'adj_low', 'adj_high', 'adj_volume']\n",
    "with pd.HDFStore(DATA_STORE) as store:\n",
    "    prices = (store['quandl/wiki/prices']\n",
    "              # select OHLCV columns from 2010 until 2017\n",
    "              .loc[idx[START:END, :], ohlcv]\n",
    "              # simplify column names\n",
    "              .rename(columns=lambda x: x.replace('adj_', ''))\n",
    "              .swaplevel()\n",
    "              .sort_index())\n",
    "    metadata = (store['us_equities/stocks'].loc[:, ['marketcap', 'sector']])"
   ]
  },
  {
   "cell_type": "code",
   "execution_count": 60,
   "metadata": {},
   "outputs": [
    {
     "data": {
      "text/html": [
       "<div>\n",
       "<style scoped>\n",
       "    .dataframe tbody tr th:only-of-type {\n",
       "        vertical-align: middle;\n",
       "    }\n",
       "\n",
       "    .dataframe tbody tr th {\n",
       "        vertical-align: top;\n",
       "    }\n",
       "\n",
       "    .dataframe thead th {\n",
       "        text-align: right;\n",
       "    }\n",
       "</style>\n",
       "<table border=\"1\" class=\"dataframe\">\n",
       "  <thead>\n",
       "    <tr style=\"text-align: right;\">\n",
       "      <th></th>\n",
       "      <th></th>\n",
       "      <th>open</th>\n",
       "      <th>close</th>\n",
       "      <th>low</th>\n",
       "      <th>high</th>\n",
       "      <th>volume</th>\n",
       "    </tr>\n",
       "    <tr>\n",
       "      <th>ticker</th>\n",
       "      <th>date</th>\n",
       "      <th></th>\n",
       "      <th></th>\n",
       "      <th></th>\n",
       "      <th></th>\n",
       "      <th></th>\n",
       "    </tr>\n",
       "  </thead>\n",
       "  <tbody>\n",
       "    <tr>\n",
       "      <th rowspan=\"3\" valign=\"top\">A</th>\n",
       "      <th>2010-01-04</th>\n",
       "      <td>21.415535</td>\n",
       "      <td>21.354133</td>\n",
       "      <td>21.239108</td>\n",
       "      <td>21.579273</td>\n",
       "      <td>2729300.0</td>\n",
       "    </tr>\n",
       "    <tr>\n",
       "      <th>2010-01-05</th>\n",
       "      <td>21.292732</td>\n",
       "      <td>21.122172</td>\n",
       "      <td>20.985724</td>\n",
       "      <td>21.299554</td>\n",
       "      <td>2994300.0</td>\n",
       "    </tr>\n",
       "    <tr>\n",
       "      <th>2010-01-06</th>\n",
       "      <td>21.047125</td>\n",
       "      <td>21.047125</td>\n",
       "      <td>20.985724</td>\n",
       "      <td>21.149461</td>\n",
       "      <td>2320300.0</td>\n",
       "    </tr>\n",
       "  </tbody>\n",
       "</table>\n",
       "</div>"
      ],
      "text/plain": [
       "                        open      close        low       high     volume\n",
       "ticker date                                                             \n",
       "A      2010-01-04  21.415535  21.354133  21.239108  21.579273  2729300.0\n",
       "       2010-01-05  21.292732  21.122172  20.985724  21.299554  2994300.0\n",
       "       2010-01-06  21.047125  21.047125  20.985724  21.149461  2320300.0"
      ]
     },
     "execution_count": 60,
     "metadata": {},
     "output_type": "execute_result"
    }
   ],
   "source": [
    "prices.head(3)"
   ]
  },
  {
   "cell_type": "code",
   "execution_count": 61,
   "metadata": {},
   "outputs": [
    {
     "data": {
      "text/plain": [
       "((5698754, 5), (6834, 2))"
      ]
     },
     "execution_count": 61,
     "metadata": {},
     "output_type": "execute_result"
    }
   ],
   "source": [
    "prices.shape, metadata.shape"
   ]
  },
  {
   "cell_type": "code",
   "execution_count": 62,
   "metadata": {
    "ExecuteTime": {
     "end_time": "2021-02-25T02:25:49.543442Z",
     "start_time": "2021-02-25T02:25:49.505884Z"
    }
   },
   "outputs": [],
   "source": [
    "prices.volume /= 1e3  # make vol figures a bit smaller\n",
    "prices.index.names = ['symbol', 'date']\n",
    "metadata.index.name = 'symbol'"
   ]
  },
  {
   "cell_type": "markdown",
   "metadata": {},
   "source": [
    "## Remove stocks with insufficient observations\n"
   ]
  },
  {
   "cell_type": "markdown",
   "metadata": {},
   "source": [
    "We require at least 7 years of data; we simplify and select using both in- and out-of-sample period; please be aware that it would be more accurate to use only the training period to remove data to avoid lookahead bias.\n"
   ]
  },
  {
   "cell_type": "code",
   "execution_count": 63,
   "metadata": {
    "ExecuteTime": {
     "end_time": "2021-02-25T02:29:17.109549Z",
     "start_time": "2021-02-25T02:25:49.544945Z"
    }
   },
   "outputs": [],
   "source": [
    "min_obs = 7 * YEAR\n",
    "nobs = prices.groupby(level='symbol').size()\n",
    "keep = nobs[nobs > min_obs].index\n",
    "prices = prices.loc[idx[keep, :], :]"
   ]
  },
  {
   "cell_type": "markdown",
   "metadata": {},
   "source": [
    "### Align price and meta data\n"
   ]
  },
  {
   "cell_type": "code",
   "execution_count": 64,
   "metadata": {},
   "outputs": [
    {
     "data": {
      "text/html": [
       "<div>\n",
       "<style scoped>\n",
       "    .dataframe tbody tr th:only-of-type {\n",
       "        vertical-align: middle;\n",
       "    }\n",
       "\n",
       "    .dataframe tbody tr th {\n",
       "        vertical-align: top;\n",
       "    }\n",
       "\n",
       "    .dataframe thead th {\n",
       "        text-align: right;\n",
       "    }\n",
       "</style>\n",
       "<table border=\"1\" class=\"dataframe\">\n",
       "  <thead>\n",
       "    <tr style=\"text-align: right;\">\n",
       "      <th></th>\n",
       "      <th>marketcap</th>\n",
       "      <th>sector</th>\n",
       "    </tr>\n",
       "    <tr>\n",
       "      <th>symbol</th>\n",
       "      <th></th>\n",
       "      <th></th>\n",
       "    </tr>\n",
       "  </thead>\n",
       "  <tbody>\n",
       "    <tr>\n",
       "      <th>PIH</th>\n",
       "      <td>43090000.0</td>\n",
       "      <td>Finance</td>\n",
       "    </tr>\n",
       "    <tr>\n",
       "      <th>PIHPP</th>\n",
       "      <td>NaN</td>\n",
       "      <td>Finance</td>\n",
       "    </tr>\n",
       "    <tr>\n",
       "      <th>TURN</th>\n",
       "      <td>70330000.0</td>\n",
       "      <td>Finance</td>\n",
       "    </tr>\n",
       "  </tbody>\n",
       "</table>\n",
       "</div>"
      ],
      "text/plain": [
       "         marketcap   sector\n",
       "symbol                     \n",
       "PIH     43090000.0  Finance\n",
       "PIHPP          NaN  Finance\n",
       "TURN    70330000.0  Finance"
      ]
     },
     "execution_count": 64,
     "metadata": {},
     "output_type": "execute_result"
    }
   ],
   "source": [
    "metadata.head(3)"
   ]
  },
  {
   "cell_type": "code",
   "execution_count": 65,
   "metadata": {
    "ExecuteTime": {
     "end_time": "2021-02-25T02:29:17.120202Z",
     "start_time": "2021-02-25T02:29:17.111416Z"
    }
   },
   "outputs": [],
   "source": [
    "metadata = metadata[~metadata.index.duplicated() & metadata.sector.notnull()]\n",
    "metadata.sector = metadata.sector.str.lower().str.replace(' ', '_')"
   ]
  },
  {
   "cell_type": "code",
   "execution_count": 66,
   "metadata": {
    "ExecuteTime": {
     "end_time": "2021-02-25T02:32:22.346966Z",
     "start_time": "2021-02-25T02:29:17.121545Z"
    }
   },
   "outputs": [],
   "source": [
    "shared = (prices.index.get_level_values('symbol').unique()\n",
    "          .intersection(metadata.index))\n",
    "metadata = metadata.loc[shared, :]\n",
    "prices = prices.loc[idx[shared, :], :]"
   ]
  },
  {
   "cell_type": "code",
   "execution_count": 67,
   "metadata": {},
   "outputs": [
    {
     "data": {
      "text/plain": [
       "((4056841, 5), (2024, 2))"
      ]
     },
     "execution_count": 67,
     "metadata": {},
     "output_type": "execute_result"
    }
   ],
   "source": [
    "prices.shape, metadata.shape"
   ]
  },
  {
   "cell_type": "markdown",
   "metadata": {},
   "source": [
    "### Limit universe to 1,000 stocks with highest market cap\n"
   ]
  },
  {
   "cell_type": "markdown",
   "metadata": {},
   "source": [
    "Again, we simplify and use the entire sample period, not just the training period, to select our universe.\n"
   ]
  },
  {
   "cell_type": "code",
   "execution_count": 68,
   "metadata": {
    "ExecuteTime": {
     "end_time": "2021-02-25T02:33:28.698764Z",
     "start_time": "2021-02-25T02:32:22.348061Z"
    }
   },
   "outputs": [],
   "source": [
    "universe = metadata.marketcap.nlargest(1000).index\n",
    "prices = prices.loc[idx[universe, :], :]\n",
    "metadata = metadata.loc[universe]"
   ]
  },
  {
   "cell_type": "code",
   "execution_count": 69,
   "metadata": {
    "ExecuteTime": {
     "end_time": "2021-02-25T02:33:28.712602Z",
     "start_time": "2021-02-25T02:33:28.699658Z"
    }
   },
   "outputs": [
    {
     "data": {
      "text/plain": [
       "sector\n",
       "consumer_services        187\n",
       "finance                  168\n",
       "technology               116\n",
       "health_care              103\n",
       "capital_goods             94\n",
       "basic_industries          67\n",
       "public_utilities          66\n",
       "consumer_non-durables     61\n",
       "energy                    51\n",
       "consumer_durables         36\n",
       "miscellaneous             28\n",
       "transportation            23\n",
       "Name: count, dtype: int64"
      ]
     },
     "execution_count": 69,
     "metadata": {},
     "output_type": "execute_result"
    }
   ],
   "source": [
    "metadata.sector.value_counts()"
   ]
  },
  {
   "cell_type": "code",
   "execution_count": 70,
   "metadata": {
    "ExecuteTime": {
     "end_time": "2021-02-25T02:33:28.787555Z",
     "start_time": "2021-02-25T02:33:28.713711Z"
    }
   },
   "outputs": [
    {
     "name": "stdout",
     "output_type": "stream",
     "text": [
      "<class 'pandas.core.frame.DataFrame'>\n",
      "MultiIndex: 2004775 entries, ('AAPL', Timestamp('2010-01-04 00:00:00')) to ('NTCT', Timestamp('2017-12-29 00:00:00'))\n",
      "Data columns (total 5 columns):\n",
      " #   Column  Non-Null Count    Dtype  \n",
      "---  ------  --------------    -----  \n",
      " 0   open    2004775 non-null  float64\n",
      " 1   close   2004775 non-null  float64\n",
      " 2   low     2004775 non-null  float64\n",
      " 3   high    2004775 non-null  float64\n",
      " 4   volume  2004775 non-null  float64\n",
      "dtypes: float64(5)\n",
      "memory usage: 84.9+ MB\n"
     ]
    }
   ],
   "source": [
    "prices.info(show_counts=True)"
   ]
  },
  {
   "cell_type": "code",
   "execution_count": 71,
   "metadata": {
    "ExecuteTime": {
     "end_time": "2021-02-25T02:33:28.796905Z",
     "start_time": "2021-02-25T02:33:28.788498Z"
    },
    "scrolled": true
   },
   "outputs": [
    {
     "name": "stdout",
     "output_type": "stream",
     "text": [
      "<class 'pandas.core.frame.DataFrame'>\n",
      "Index: 1000 entries, AAPL to NTCT\n",
      "Data columns (total 2 columns):\n",
      " #   Column     Non-Null Count  Dtype  \n",
      "---  ------     --------------  -----  \n",
      " 0   marketcap  1000 non-null   float64\n",
      " 1   sector     1000 non-null   object \n",
      "dtypes: float64(1), object(1)\n",
      "memory usage: 23.4+ KB\n"
     ]
    }
   ],
   "source": [
    "metadata.info()"
   ]
  },
  {
   "cell_type": "markdown",
   "metadata": {},
   "source": [
    "### Rank assets by Rolling Average Dollar Volume\n"
   ]
  },
  {
   "cell_type": "markdown",
   "metadata": {},
   "source": [
    "#### Compute dollar volume\n"
   ]
  },
  {
   "cell_type": "code",
   "execution_count": 72,
   "metadata": {},
   "outputs": [],
   "source": [
    "prices['dollar_vol'] = prices[['close', 'volume']].prod(axis=1).div(1e3)"
   ]
  },
  {
   "cell_type": "code",
   "execution_count": 73,
   "metadata": {},
   "outputs": [
    {
     "data": {
      "text/html": [
       "<div>\n",
       "<style scoped>\n",
       "    .dataframe tbody tr th:only-of-type {\n",
       "        vertical-align: middle;\n",
       "    }\n",
       "\n",
       "    .dataframe tbody tr th {\n",
       "        vertical-align: top;\n",
       "    }\n",
       "\n",
       "    .dataframe thead th {\n",
       "        text-align: right;\n",
       "    }\n",
       "</style>\n",
       "<table border=\"1\" class=\"dataframe\">\n",
       "  <thead>\n",
       "    <tr style=\"text-align: right;\">\n",
       "      <th></th>\n",
       "      <th></th>\n",
       "      <th>open</th>\n",
       "      <th>close</th>\n",
       "      <th>low</th>\n",
       "      <th>high</th>\n",
       "      <th>volume</th>\n",
       "      <th>dollar_vol</th>\n",
       "    </tr>\n",
       "    <tr>\n",
       "      <th>symbol</th>\n",
       "      <th>date</th>\n",
       "      <th></th>\n",
       "      <th></th>\n",
       "      <th></th>\n",
       "      <th></th>\n",
       "      <th></th>\n",
       "      <th></th>\n",
       "    </tr>\n",
       "  </thead>\n",
       "  <tbody>\n",
       "    <tr>\n",
       "      <th rowspan=\"3\" valign=\"top\">AAPL</th>\n",
       "      <th>2010-01-04</th>\n",
       "      <td>27.428730</td>\n",
       "      <td>27.503268</td>\n",
       "      <td>27.293790</td>\n",
       "      <td>27.566240</td>\n",
       "      <td>123432.4</td>\n",
       "      <td>3394.794352</td>\n",
       "    </tr>\n",
       "    <tr>\n",
       "      <th>2010-01-05</th>\n",
       "      <td>27.579091</td>\n",
       "      <td>27.550818</td>\n",
       "      <td>27.405597</td>\n",
       "      <td>27.706320</td>\n",
       "      <td>150476.2</td>\n",
       "      <td>4145.742393</td>\n",
       "    </tr>\n",
       "    <tr>\n",
       "      <th>2010-01-06</th>\n",
       "      <td>27.550818</td>\n",
       "      <td>27.112585</td>\n",
       "      <td>27.084312</td>\n",
       "      <td>27.660055</td>\n",
       "      <td>138040.0</td>\n",
       "      <td>3742.621292</td>\n",
       "    </tr>\n",
       "  </tbody>\n",
       "</table>\n",
       "</div>"
      ],
      "text/plain": [
       "                        open      close        low       high    volume  \\\n",
       "symbol date                                                               \n",
       "AAPL   2010-01-04  27.428730  27.503268  27.293790  27.566240  123432.4   \n",
       "       2010-01-05  27.579091  27.550818  27.405597  27.706320  150476.2   \n",
       "       2010-01-06  27.550818  27.112585  27.084312  27.660055  138040.0   \n",
       "\n",
       "                    dollar_vol  \n",
       "symbol date                     \n",
       "AAPL   2010-01-04  3394.794352  \n",
       "       2010-01-05  4145.742393  \n",
       "       2010-01-06  3742.621292  "
      ]
     },
     "execution_count": 73,
     "metadata": {},
     "output_type": "execute_result"
    }
   ],
   "source": [
    "prices.head(3)"
   ]
  },
  {
   "cell_type": "markdown",
   "metadata": {},
   "source": [
    "#### 21-day moving average\n"
   ]
  },
  {
   "cell_type": "code",
   "execution_count": 74,
   "metadata": {
    "ExecuteTime": {
     "end_time": "2021-02-25T02:33:36.748231Z",
     "start_time": "2021-02-25T02:33:28.797955Z"
    }
   },
   "outputs": [],
   "source": [
    "# compute dollar volume to determine universe\n",
    "dollar_vol_ma = (prices\n",
    "                 .dollar_vol\n",
    "                 .unstack('symbol')\n",
    "                 .rolling(window=21, min_periods=1)  # 1 trading month\n",
    "                 .mean())"
   ]
  },
  {
   "cell_type": "markdown",
   "metadata": {},
   "source": [
    "#### Rank stocks by moving average\n"
   ]
  },
  {
   "cell_type": "code",
   "execution_count": 75,
   "metadata": {
    "ExecuteTime": {
     "end_time": "2021-02-25T02:33:36.992360Z",
     "start_time": "2021-02-25T02:33:36.750624Z"
    }
   },
   "outputs": [],
   "source": [
    "prices['dollar_vol_rank'] = (dollar_vol_ma\n",
    "                             .rank(axis=1, ascending=False)\n",
    "                             .stack('symbol')\n",
    "                             .swaplevel())"
   ]
  },
  {
   "cell_type": "code",
   "execution_count": 76,
   "metadata": {},
   "outputs": [
    {
     "name": "stdout",
     "output_type": "stream",
     "text": [
      "<class 'pandas.core.frame.DataFrame'>\n",
      "MultiIndex: 2004775 entries, ('AAPL', Timestamp('2010-01-04 00:00:00')) to ('NTCT', Timestamp('2017-12-29 00:00:00'))\n",
      "Data columns (total 7 columns):\n",
      " #   Column           Non-Null Count    Dtype  \n",
      "---  ------           --------------    -----  \n",
      " 0   open             2004775 non-null  float64\n",
      " 1   close            2004775 non-null  float64\n",
      " 2   low              2004775 non-null  float64\n",
      " 3   high             2004775 non-null  float64\n",
      " 4   volume           2004775 non-null  float64\n",
      " 5   dollar_vol       2004775 non-null  float64\n",
      " 6   dollar_vol_rank  2004775 non-null  float64\n",
      "dtypes: float64(7)\n",
      "memory usage: 115.5+ MB\n"
     ]
    }
   ],
   "source": [
    "prices.info(show_counts=True)"
   ]
  },
  {
   "cell_type": "code",
   "execution_count": 77,
   "metadata": {},
   "outputs": [
    {
     "data": {
      "text/html": [
       "<div>\n",
       "<style scoped>\n",
       "    .dataframe tbody tr th:only-of-type {\n",
       "        vertical-align: middle;\n",
       "    }\n",
       "\n",
       "    .dataframe tbody tr th {\n",
       "        vertical-align: top;\n",
       "    }\n",
       "\n",
       "    .dataframe thead th {\n",
       "        text-align: right;\n",
       "    }\n",
       "</style>\n",
       "<table border=\"1\" class=\"dataframe\">\n",
       "  <thead>\n",
       "    <tr style=\"text-align: right;\">\n",
       "      <th></th>\n",
       "      <th></th>\n",
       "      <th>open</th>\n",
       "      <th>close</th>\n",
       "      <th>low</th>\n",
       "      <th>high</th>\n",
       "      <th>volume</th>\n",
       "      <th>dollar_vol</th>\n",
       "      <th>dollar_vol_rank</th>\n",
       "    </tr>\n",
       "    <tr>\n",
       "      <th>symbol</th>\n",
       "      <th>date</th>\n",
       "      <th></th>\n",
       "      <th></th>\n",
       "      <th></th>\n",
       "      <th></th>\n",
       "      <th></th>\n",
       "      <th></th>\n",
       "      <th></th>\n",
       "    </tr>\n",
       "  </thead>\n",
       "  <tbody>\n",
       "    <tr>\n",
       "      <th rowspan=\"5\" valign=\"top\">AAPL</th>\n",
       "      <th>2010-01-04</th>\n",
       "      <td>27.428730</td>\n",
       "      <td>27.503268</td>\n",
       "      <td>27.293790</td>\n",
       "      <td>27.566240</td>\n",
       "      <td>123432.4</td>\n",
       "      <td>3394.794352</td>\n",
       "      <td>1.0</td>\n",
       "    </tr>\n",
       "    <tr>\n",
       "      <th>2010-01-05</th>\n",
       "      <td>27.579091</td>\n",
       "      <td>27.550818</td>\n",
       "      <td>27.405597</td>\n",
       "      <td>27.706320</td>\n",
       "      <td>150476.2</td>\n",
       "      <td>4145.742393</td>\n",
       "      <td>1.0</td>\n",
       "    </tr>\n",
       "    <tr>\n",
       "      <th>2010-01-06</th>\n",
       "      <td>27.550818</td>\n",
       "      <td>27.112585</td>\n",
       "      <td>27.084312</td>\n",
       "      <td>27.660055</td>\n",
       "      <td>138040.0</td>\n",
       "      <td>3742.621292</td>\n",
       "      <td>1.0</td>\n",
       "    </tr>\n",
       "    <tr>\n",
       "      <th>2010-01-07</th>\n",
       "      <td>27.212826</td>\n",
       "      <td>27.062465</td>\n",
       "      <td>26.865839</td>\n",
       "      <td>27.244955</td>\n",
       "      <td>119282.8</td>\n",
       "      <td>3228.086599</td>\n",
       "      <td>1.0</td>\n",
       "    </tr>\n",
       "    <tr>\n",
       "      <th>2010-01-08</th>\n",
       "      <td>27.026481</td>\n",
       "      <td>27.242385</td>\n",
       "      <td>26.867124</td>\n",
       "      <td>27.244955</td>\n",
       "      <td>111902.7</td>\n",
       "      <td>3048.496380</td>\n",
       "      <td>2.0</td>\n",
       "    </tr>\n",
       "  </tbody>\n",
       "</table>\n",
       "</div>"
      ],
      "text/plain": [
       "                        open      close        low       high    volume  \\\n",
       "symbol date                                                               \n",
       "AAPL   2010-01-04  27.428730  27.503268  27.293790  27.566240  123432.4   \n",
       "       2010-01-05  27.579091  27.550818  27.405597  27.706320  150476.2   \n",
       "       2010-01-06  27.550818  27.112585  27.084312  27.660055  138040.0   \n",
       "       2010-01-07  27.212826  27.062465  26.865839  27.244955  119282.8   \n",
       "       2010-01-08  27.026481  27.242385  26.867124  27.244955  111902.7   \n",
       "\n",
       "                    dollar_vol  dollar_vol_rank  \n",
       "symbol date                                      \n",
       "AAPL   2010-01-04  3394.794352              1.0  \n",
       "       2010-01-05  4145.742393              1.0  \n",
       "       2010-01-06  3742.621292              1.0  \n",
       "       2010-01-07  3228.086599              1.0  \n",
       "       2010-01-08  3048.496380              2.0  "
      ]
     },
     "execution_count": 77,
     "metadata": {},
     "output_type": "execute_result"
    }
   ],
   "source": [
    "prices.head()"
   ]
  },
  {
   "cell_type": "markdown",
   "metadata": {},
   "source": [
    "## Add some Basic Factors\n"
   ]
  },
  {
   "cell_type": "markdown",
   "metadata": {},
   "source": [
    "See [appendix](../24_alpha_factor_library) for details on the below indicators.\n"
   ]
  },
  {
   "cell_type": "markdown",
   "metadata": {},
   "source": [
    "### Compute the Relative Strength Index\n"
   ]
  },
  {
   "cell_type": "code",
   "execution_count": 78,
   "metadata": {},
   "outputs": [],
   "source": [
    "# prices.groupby(level='symbol').close.apply(RSI)"
   ]
  },
  {
   "cell_type": "code",
   "execution_count": 79,
   "metadata": {
    "ExecuteTime": {
     "end_time": "2021-02-25T02:33:48.466650Z",
     "start_time": "2021-02-25T02:33:36.993227Z"
    }
   },
   "outputs": [],
   "source": [
    "prices['rsi'] = prices.groupby(level='symbol').close.apply(RSI).droplevel(0)"
   ]
  },
  {
   "cell_type": "code",
   "execution_count": 80,
   "metadata": {
    "ExecuteTime": {
     "end_time": "2021-02-25T02:33:53.995183Z",
     "start_time": "2021-02-25T02:33:48.467651Z"
    }
   },
   "outputs": [
    {
     "data": {
      "image/png": "[encoded data removed]",
      "text/plain": [
       "<Figure size 640x480 with 1 Axes>"
      ]
     },
     "metadata": {},
     "output_type": "display_data"
    }
   ],
   "source": [
    "ax = sns.distplot(prices.rsi.dropna())\n",
    "ax.axvline(30, ls='--', lw=1, c='k')\n",
    "ax.axvline(70, ls='--', lw=1, c='k')\n",
    "ax.set_title('RSI Distribution with Signal Threshold')\n",
    "sns.despine()\n",
    "plt.tight_layout()"
   ]
  },
  {
   "cell_type": "markdown",
   "metadata": {},
   "source": [
    "### Compute Bollinger Bands\n"
   ]
  },
  {
   "cell_type": "code",
   "execution_count": 81,
   "metadata": {
    "ExecuteTime": {
     "end_time": "2021-02-25T02:33:53.998945Z",
     "start_time": "2021-02-25T02:33:53.996992Z"
    }
   },
   "outputs": [],
   "source": [
    "def compute_bb(close):\n",
    "    high, mid, low = BBANDS(close, timeperiod=20)\n",
    "    return pd.DataFrame({'bb_high': high, 'bb_low': low}, index=close.index)"
   ]
  },
  {
   "cell_type": "code",
   "execution_count": 87,
   "metadata": {
    "ExecuteTime": {
     "end_time": "2021-02-25T02:34:09.287189Z",
     "start_time": "2021-02-25T02:33:53.999703Z"
    }
   },
   "outputs": [],
   "source": [
    "prices = (prices.join(prices\n",
    "                      .groupby(level='symbol')\n",
    "                      .close\n",
    "                      .apply(compute_bb).droplevel(0)))"
   ]
  },
  {
   "cell_type": "code",
   "execution_count": 89,
   "metadata": {},
   "outputs": [
    {
     "data": {
      "text/html": [
       "<div>\n",
       "<style scoped>\n",
       "    .dataframe tbody tr th:only-of-type {\n",
       "        vertical-align: middle;\n",
       "    }\n",
       "\n",
       "    .dataframe tbody tr th {\n",
       "        vertical-align: top;\n",
       "    }\n",
       "\n",
       "    .dataframe thead th {\n",
       "        text-align: right;\n",
       "    }\n",
       "</style>\n",
       "<table border=\"1\" class=\"dataframe\">\n",
       "  <thead>\n",
       "    <tr style=\"text-align: right;\">\n",
       "      <th></th>\n",
       "      <th></th>\n",
       "      <th>open</th>\n",
       "      <th>close</th>\n",
       "      <th>low</th>\n",
       "      <th>high</th>\n",
       "      <th>volume</th>\n",
       "      <th>dollar_vol</th>\n",
       "      <th>dollar_vol_rank</th>\n",
       "      <th>rsi</th>\n",
       "      <th>bb_high</th>\n",
       "      <th>bb_low</th>\n",
       "    </tr>\n",
       "    <tr>\n",
       "      <th>symbol</th>\n",
       "      <th>date</th>\n",
       "      <th></th>\n",
       "      <th></th>\n",
       "      <th></th>\n",
       "      <th></th>\n",
       "      <th></th>\n",
       "      <th></th>\n",
       "      <th></th>\n",
       "      <th></th>\n",
       "      <th></th>\n",
       "      <th></th>\n",
       "    </tr>\n",
       "  </thead>\n",
       "  <tbody>\n",
       "    <tr>\n",
       "      <th rowspan=\"3\" valign=\"top\">AAPL</th>\n",
       "      <th>2010-01-04</th>\n",
       "      <td>27.428730</td>\n",
       "      <td>27.503268</td>\n",
       "      <td>27.293790</td>\n",
       "      <td>27.566240</td>\n",
       "      <td>123432.4</td>\n",
       "      <td>3394.794352</td>\n",
       "      <td>1.0</td>\n",
       "      <td>NaN</td>\n",
       "      <td>NaN</td>\n",
       "      <td>NaN</td>\n",
       "    </tr>\n",
       "    <tr>\n",
       "      <th>2010-01-05</th>\n",
       "      <td>27.579091</td>\n",
       "      <td>27.550818</td>\n",
       "      <td>27.405597</td>\n",
       "      <td>27.706320</td>\n",
       "      <td>150476.2</td>\n",
       "      <td>4145.742393</td>\n",
       "      <td>1.0</td>\n",
       "      <td>NaN</td>\n",
       "      <td>NaN</td>\n",
       "      <td>NaN</td>\n",
       "    </tr>\n",
       "    <tr>\n",
       "      <th>2010-01-06</th>\n",
       "      <td>27.550818</td>\n",
       "      <td>27.112585</td>\n",
       "      <td>27.084312</td>\n",
       "      <td>27.660055</td>\n",
       "      <td>138040.0</td>\n",
       "      <td>3742.621292</td>\n",
       "      <td>1.0</td>\n",
       "      <td>NaN</td>\n",
       "      <td>NaN</td>\n",
       "      <td>NaN</td>\n",
       "    </tr>\n",
       "  </tbody>\n",
       "</table>\n",
       "</div>"
      ],
      "text/plain": [
       "                        open      close        low       high    volume  \\\n",
       "symbol date                                                               \n",
       "AAPL   2010-01-04  27.428730  27.503268  27.293790  27.566240  123432.4   \n",
       "       2010-01-05  27.579091  27.550818  27.405597  27.706320  150476.2   \n",
       "       2010-01-06  27.550818  27.112585  27.084312  27.660055  138040.0   \n",
       "\n",
       "                    dollar_vol  dollar_vol_rank  rsi  bb_high  bb_low  \n",
       "symbol date                                                            \n",
       "AAPL   2010-01-04  3394.794352              1.0  NaN      NaN     NaN  \n",
       "       2010-01-05  4145.742393              1.0  NaN      NaN     NaN  \n",
       "       2010-01-06  3742.621292              1.0  NaN      NaN     NaN  "
      ]
     },
     "execution_count": 89,
     "metadata": {},
     "output_type": "execute_result"
    }
   ],
   "source": [
    "prices.head(3)"
   ]
  },
  {
   "cell_type": "code",
   "execution_count": 90,
   "metadata": {
    "ExecuteTime": {
     "end_time": "2021-02-25T02:34:09.333606Z",
     "start_time": "2021-02-25T02:34:09.288161Z"
    }
   },
   "outputs": [],
   "source": [
    "prices['bb_high'] = prices.bb_high.sub(\n",
    "    prices.close).div(prices.bb_high).apply(np.log1p)\n",
    "prices['bb_low'] = prices.close.sub(\n",
    "    prices.bb_low).div(prices.close).apply(np.log1p)"
   ]
  },
  {
   "cell_type": "code",
   "execution_count": 91,
   "metadata": {
    "ExecuteTime": {
     "end_time": "2021-02-25T02:34:09.629357Z",
     "start_time": "2021-02-25T02:34:09.335771Z"
    },
    "scrolled": true
   },
   "outputs": [
    {
     "data": {
      "image/png": "[encoded data removed]",
      "text/plain": [
       "<Figure size 1500x500 with 2 Axes>"
      ]
     },
     "metadata": {},
     "output_type": "display_data"
    }
   ],
   "source": [
    "fig, axes = plt.subplots(ncols=2, figsize=(15, 5))\n",
    "sns.distplot(prices.loc[prices.dollar_vol_rank <\n",
    "             100, 'bb_low'].dropna(), ax=axes[0])\n",
    "sns.distplot(prices.loc[prices.dollar_vol_rank <\n",
    "             100, 'bb_high'].dropna(), ax=axes[1])\n",
    "sns.despine()\n",
    "plt.tight_layout()"
   ]
  },
  {
   "cell_type": "markdown",
   "metadata": {},
   "source": [
    "### Compute Average True Range\n"
   ]
  },
  {
   "cell_type": "code",
   "execution_count": 92,
   "metadata": {
    "ExecuteTime": {
     "end_time": "2021-02-25T02:34:14.101089Z",
     "start_time": "2021-02-25T02:34:09.631132Z"
    }
   },
   "outputs": [],
   "source": [
    "prices['NATR'] = prices.groupby(level='symbol',\n",
    "                                group_keys=False).apply(lambda x:\n",
    "                                                        talib.NATR(x.high, x.low, x.close))"
   ]
  },
  {
   "cell_type": "code",
   "execution_count": 93,
   "metadata": {
    "ExecuteTime": {
     "end_time": "2021-02-25T02:34:14.104983Z",
     "start_time": "2021-02-25T02:34:14.101994Z"
    }
   },
   "outputs": [],
   "source": [
    "def compute_atr(stock_data):\n",
    "    df = ATR(stock_data.high, stock_data.low,\n",
    "             stock_data.close, timeperiod=14)\n",
    "    return df.sub(df.mean()).div(df.std())"
   ]
  },
  {
   "cell_type": "code",
   "execution_count": 94,
   "metadata": {
    "ExecuteTime": {
     "end_time": "2021-02-25T02:34:19.371984Z",
     "start_time": "2021-02-25T02:34:14.106249Z"
    }
   },
   "outputs": [],
   "source": [
    "prices['ATR'] = (prices.groupby('symbol', group_keys=False)\n",
    "                 .apply(compute_atr))"
   ]
  },
  {
   "cell_type": "code",
   "execution_count": 98,
   "metadata": {},
   "outputs": [
    {
     "data": {
      "image/png": "[encoded data removed]",
      "text/plain": [
       "<Figure size 640x480 with 1 Axes>"
      ]
     },
     "metadata": {},
     "output_type": "display_data"
    }
   ],
   "source": [
    "ax = sns.distplot(prices.ATR.dropna())\n",
    "ax.set_title('ATR Distribution')\n",
    "sns.despine()\n",
    "plt.tight_layout()"
   ]
  },
  {
   "cell_type": "markdown",
   "metadata": {},
   "source": [
    "### Compute Moving Average Convergence/Divergence\n"
   ]
  },
  {
   "cell_type": "code",
   "execution_count": null,
   "metadata": {
    "ExecuteTime": {
     "end_time": "2021-02-25T02:34:30.296463Z",
     "start_time": "2021-02-25T02:34:19.372947Z"
    }
   },
   "outputs": [],
   "source": [
    "prices['PPO'] = prices.groupby(\n",
    "    level='symbol').close.apply(talib.PPO).droplevel(0)"
   ]
  },
  {
   "cell_type": "code",
   "execution_count": 99,
   "metadata": {
    "ExecuteTime": {
     "end_time": "2021-02-25T02:34:30.300707Z",
     "start_time": "2021-02-25T02:34:30.297511Z"
    }
   },
   "outputs": [],
   "source": [
    "def compute_macd(close):\n",
    "    macd = MACD(close)[0]\n",
    "    return (macd - np.mean(macd))/np.std(macd)"
   ]
  },
  {
   "cell_type": "code",
   "execution_count": 100,
   "metadata": {
    "ExecuteTime": {
     "end_time": "2021-02-25T02:34:41.963633Z",
     "start_time": "2021-02-25T02:34:30.301878Z"
    }
   },
   "outputs": [],
   "source": [
    "prices['MACD'] = (prices\n",
    "                  .groupby('symbol', group_keys=False)\n",
    "                  .close\n",
    "                  .apply(compute_macd))"
   ]
  },
  {
   "cell_type": "markdown",
   "metadata": {},
   "source": [
    "### Combine Price and Meta Data\n"
   ]
  },
  {
   "cell_type": "code",
   "execution_count": 101,
   "metadata": {
    "ExecuteTime": {
     "end_time": "2021-02-25T02:34:42.032942Z",
     "start_time": "2021-02-25T02:34:41.965666Z"
    }
   },
   "outputs": [],
   "source": [
    "metadata.sector = pd.factorize(metadata.sector)[0].astype(int)\n",
    "prices = prices.join(metadata[['sector']])"
   ]
  },
  {
   "cell_type": "markdown",
   "metadata": {},
   "source": [
    "## Compute Returns\n"
   ]
  },
  {
   "cell_type": "markdown",
   "metadata": {},
   "source": [
    "### Historical Returns\n"
   ]
  },
  {
   "cell_type": "code",
   "execution_count": 103,
   "metadata": {
    "ExecuteTime": {
     "end_time": "2021-02-25T02:34:42.804305Z",
     "start_time": "2021-02-25T02:34:42.033855Z"
    }
   },
   "outputs": [],
   "source": [
    "by_sym = prices.groupby(level='symbol').close\n",
    "for t in T:\n",
    "    prices[f'r{t:02}'] = by_sym.pct_change(t)"
   ]
  },
  {
   "cell_type": "code",
   "execution_count": 104,
   "metadata": {},
   "outputs": [
    {
     "data": {
      "text/html": [
       "<div>\n",
       "<style scoped>\n",
       "    .dataframe tbody tr th:only-of-type {\n",
       "        vertical-align: middle;\n",
       "    }\n",
       "\n",
       "    .dataframe tbody tr th {\n",
       "        vertical-align: top;\n",
       "    }\n",
       "\n",
       "    .dataframe thead th {\n",
       "        text-align: right;\n",
       "    }\n",
       "</style>\n",
       "<table border=\"1\" class=\"dataframe\">\n",
       "  <thead>\n",
       "    <tr style=\"text-align: right;\">\n",
       "      <th></th>\n",
       "      <th></th>\n",
       "      <th>open</th>\n",
       "      <th>close</th>\n",
       "      <th>low</th>\n",
       "      <th>high</th>\n",
       "      <th>volume</th>\n",
       "      <th>dollar_vol</th>\n",
       "      <th>dollar_vol_rank</th>\n",
       "      <th>rsi</th>\n",
       "      <th>bb_high</th>\n",
       "      <th>bb_low</th>\n",
       "      <th>...</th>\n",
       "      <th>ATR</th>\n",
       "      <th>PPO</th>\n",
       "      <th>MACD</th>\n",
       "      <th>sector</th>\n",
       "      <th>r01</th>\n",
       "      <th>r05</th>\n",
       "      <th>r10</th>\n",
       "      <th>r21</th>\n",
       "      <th>r42</th>\n",
       "      <th>r63</th>\n",
       "    </tr>\n",
       "    <tr>\n",
       "      <th>symbol</th>\n",
       "      <th>date</th>\n",
       "      <th></th>\n",
       "      <th></th>\n",
       "      <th></th>\n",
       "      <th></th>\n",
       "      <th></th>\n",
       "      <th></th>\n",
       "      <th></th>\n",
       "      <th></th>\n",
       "      <th></th>\n",
       "      <th></th>\n",
       "      <th></th>\n",
       "      <th></th>\n",
       "      <th></th>\n",
       "      <th></th>\n",
       "      <th></th>\n",
       "      <th></th>\n",
       "      <th></th>\n",
       "      <th></th>\n",
       "      <th></th>\n",
       "      <th></th>\n",
       "      <th></th>\n",
       "    </tr>\n",
       "  </thead>\n",
       "  <tbody>\n",
       "    <tr>\n",
       "      <th rowspan=\"3\" valign=\"top\">AAPL</th>\n",
       "      <th>2010-01-04</th>\n",
       "      <td>27.428730</td>\n",
       "      <td>27.503268</td>\n",
       "      <td>27.293790</td>\n",
       "      <td>27.566240</td>\n",
       "      <td>123432.4</td>\n",
       "      <td>3394.794352</td>\n",
       "      <td>1.0</td>\n",
       "      <td>NaN</td>\n",
       "      <td>NaN</td>\n",
       "      <td>NaN</td>\n",
       "      <td>...</td>\n",
       "      <td>NaN</td>\n",
       "      <td>NaN</td>\n",
       "      <td>NaN</td>\n",
       "      <td>0</td>\n",
       "      <td>NaN</td>\n",
       "      <td>NaN</td>\n",
       "      <td>NaN</td>\n",
       "      <td>NaN</td>\n",
       "      <td>NaN</td>\n",
       "      <td>NaN</td>\n",
       "    </tr>\n",
       "    <tr>\n",
       "      <th>2010-01-05</th>\n",
       "      <td>27.579091</td>\n",
       "      <td>27.550818</td>\n",
       "      <td>27.405597</td>\n",
       "      <td>27.706320</td>\n",
       "      <td>150476.2</td>\n",
       "      <td>4145.742393</td>\n",
       "      <td>1.0</td>\n",
       "      <td>NaN</td>\n",
       "      <td>NaN</td>\n",
       "      <td>NaN</td>\n",
       "      <td>...</td>\n",
       "      <td>NaN</td>\n",
       "      <td>NaN</td>\n",
       "      <td>NaN</td>\n",
       "      <td>0</td>\n",
       "      <td>0.001729</td>\n",
       "      <td>NaN</td>\n",
       "      <td>NaN</td>\n",
       "      <td>NaN</td>\n",
       "      <td>NaN</td>\n",
       "      <td>NaN</td>\n",
       "    </tr>\n",
       "    <tr>\n",
       "      <th>2010-01-06</th>\n",
       "      <td>27.550818</td>\n",
       "      <td>27.112585</td>\n",
       "      <td>27.084312</td>\n",
       "      <td>27.660055</td>\n",
       "      <td>138040.0</td>\n",
       "      <td>3742.621292</td>\n",
       "      <td>1.0</td>\n",
       "      <td>NaN</td>\n",
       "      <td>NaN</td>\n",
       "      <td>NaN</td>\n",
       "      <td>...</td>\n",
       "      <td>NaN</td>\n",
       "      <td>NaN</td>\n",
       "      <td>NaN</td>\n",
       "      <td>0</td>\n",
       "      <td>-0.015906</td>\n",
       "      <td>NaN</td>\n",
       "      <td>NaN</td>\n",
       "      <td>NaN</td>\n",
       "      <td>NaN</td>\n",
       "      <td>NaN</td>\n",
       "    </tr>\n",
       "  </tbody>\n",
       "</table>\n",
       "<p>3 rows × 21 columns</p>\n",
       "</div>"
      ],
      "text/plain": [
       "                        open      close        low       high    volume  \\\n",
       "symbol date                                                               \n",
       "AAPL   2010-01-04  27.428730  27.503268  27.293790  27.566240  123432.4   \n",
       "       2010-01-05  27.579091  27.550818  27.405597  27.706320  150476.2   \n",
       "       2010-01-06  27.550818  27.112585  27.084312  27.660055  138040.0   \n",
       "\n",
       "                    dollar_vol  dollar_vol_rank  rsi  bb_high  bb_low  ...  \\\n",
       "symbol date                                                            ...   \n",
       "AAPL   2010-01-04  3394.794352              1.0  NaN      NaN     NaN  ...   \n",
       "       2010-01-05  4145.742393              1.0  NaN      NaN     NaN  ...   \n",
       "       2010-01-06  3742.621292              1.0  NaN      NaN     NaN  ...   \n",
       "\n",
       "                   ATR  PPO  MACD  sector       r01  r05  r10  r21  r42  r63  \n",
       "symbol date                                                                   \n",
       "AAPL   2010-01-04  NaN  NaN   NaN       0       NaN  NaN  NaN  NaN  NaN  NaN  \n",
       "       2010-01-05  NaN  NaN   NaN       0  0.001729  NaN  NaN  NaN  NaN  NaN  \n",
       "       2010-01-06  NaN  NaN   NaN       0 -0.015906  NaN  NaN  NaN  NaN  NaN  \n",
       "\n",
       "[3 rows x 21 columns]"
      ]
     },
     "execution_count": 104,
     "metadata": {},
     "output_type": "execute_result"
    }
   ],
   "source": [
    "prices.head(3)"
   ]
  },
  {
   "cell_type": "markdown",
   "metadata": {},
   "source": [
    "### Daily historical return deciles\n"
   ]
  },
  {
   "cell_type": "code",
   "execution_count": 106,
   "metadata": {
    "ExecuteTime": {
     "end_time": "2021-02-25T02:36:01.526052Z",
     "start_time": "2021-02-25T02:34:42.805173Z"
    }
   },
   "outputs": [],
   "source": [
    "for t in T:\n",
    "    prices[f'r{t:02}dec'] = (prices[f'r{t:02}']\n",
    "                             .groupby(level='date')\n",
    "                             .apply(lambda x: pd.qcut(x,\n",
    "                                                      q=10,\n",
    "                                                      labels=False,\n",
    "                                                      duplicates='drop')).droplevel(0))"
   ]
  },
  {
   "cell_type": "code",
   "execution_count": 107,
   "metadata": {},
   "outputs": [
    {
     "data": {
      "text/html": [
       "<div>\n",
       "<style scoped>\n",
       "    .dataframe tbody tr th:only-of-type {\n",
       "        vertical-align: middle;\n",
       "    }\n",
       "\n",
       "    .dataframe tbody tr th {\n",
       "        vertical-align: top;\n",
       "    }\n",
       "\n",
       "    .dataframe thead th {\n",
       "        text-align: right;\n",
       "    }\n",
       "</style>\n",
       "<table border=\"1\" class=\"dataframe\">\n",
       "  <thead>\n",
       "    <tr style=\"text-align: right;\">\n",
       "      <th></th>\n",
       "      <th></th>\n",
       "      <th>open</th>\n",
       "      <th>close</th>\n",
       "      <th>low</th>\n",
       "      <th>high</th>\n",
       "      <th>volume</th>\n",
       "      <th>dollar_vol</th>\n",
       "      <th>dollar_vol_rank</th>\n",
       "      <th>rsi</th>\n",
       "      <th>bb_high</th>\n",
       "      <th>bb_low</th>\n",
       "      <th>...</th>\n",
       "      <th>r10</th>\n",
       "      <th>r21</th>\n",
       "      <th>r42</th>\n",
       "      <th>r63</th>\n",
       "      <th>r01dec</th>\n",
       "      <th>r05dec</th>\n",
       "      <th>r10dec</th>\n",
       "      <th>r21dec</th>\n",
       "      <th>r42dec</th>\n",
       "      <th>r63dec</th>\n",
       "    </tr>\n",
       "    <tr>\n",
       "      <th>symbol</th>\n",
       "      <th>date</th>\n",
       "      <th></th>\n",
       "      <th></th>\n",
       "      <th></th>\n",
       "      <th></th>\n",
       "      <th></th>\n",
       "      <th></th>\n",
       "      <th></th>\n",
       "      <th></th>\n",
       "      <th></th>\n",
       "      <th></th>\n",
       "      <th></th>\n",
       "      <th></th>\n",
       "      <th></th>\n",
       "      <th></th>\n",
       "      <th></th>\n",
       "      <th></th>\n",
       "      <th></th>\n",
       "      <th></th>\n",
       "      <th></th>\n",
       "      <th></th>\n",
       "      <th></th>\n",
       "    </tr>\n",
       "  </thead>\n",
       "  <tbody>\n",
       "    <tr>\n",
       "      <th rowspan=\"3\" valign=\"top\">AAPL</th>\n",
       "      <th>2010-01-04</th>\n",
       "      <td>27.428730</td>\n",
       "      <td>27.503268</td>\n",
       "      <td>27.293790</td>\n",
       "      <td>27.566240</td>\n",
       "      <td>123432.4</td>\n",
       "      <td>3394.794352</td>\n",
       "      <td>1.0</td>\n",
       "      <td>NaN</td>\n",
       "      <td>NaN</td>\n",
       "      <td>NaN</td>\n",
       "      <td>...</td>\n",
       "      <td>NaN</td>\n",
       "      <td>NaN</td>\n",
       "      <td>NaN</td>\n",
       "      <td>NaN</td>\n",
       "      <td>NaN</td>\n",
       "      <td>NaN</td>\n",
       "      <td>NaN</td>\n",
       "      <td>NaN</td>\n",
       "      <td>NaN</td>\n",
       "      <td>NaN</td>\n",
       "    </tr>\n",
       "    <tr>\n",
       "      <th>2010-01-05</th>\n",
       "      <td>27.579091</td>\n",
       "      <td>27.550818</td>\n",
       "      <td>27.405597</td>\n",
       "      <td>27.706320</td>\n",
       "      <td>150476.2</td>\n",
       "      <td>4145.742393</td>\n",
       "      <td>1.0</td>\n",
       "      <td>NaN</td>\n",
       "      <td>NaN</td>\n",
       "      <td>NaN</td>\n",
       "      <td>...</td>\n",
       "      <td>NaN</td>\n",
       "      <td>NaN</td>\n",
       "      <td>NaN</td>\n",
       "      <td>NaN</td>\n",
       "      <td>5.0</td>\n",
       "      <td>NaN</td>\n",
       "      <td>NaN</td>\n",
       "      <td>NaN</td>\n",
       "      <td>NaN</td>\n",
       "      <td>NaN</td>\n",
       "    </tr>\n",
       "    <tr>\n",
       "      <th>2010-01-06</th>\n",
       "      <td>27.550818</td>\n",
       "      <td>27.112585</td>\n",
       "      <td>27.084312</td>\n",
       "      <td>27.660055</td>\n",
       "      <td>138040.0</td>\n",
       "      <td>3742.621292</td>\n",
       "      <td>1.0</td>\n",
       "      <td>NaN</td>\n",
       "      <td>NaN</td>\n",
       "      <td>NaN</td>\n",
       "      <td>...</td>\n",
       "      <td>NaN</td>\n",
       "      <td>NaN</td>\n",
       "      <td>NaN</td>\n",
       "      <td>NaN</td>\n",
       "      <td>1.0</td>\n",
       "      <td>NaN</td>\n",
       "      <td>NaN</td>\n",
       "      <td>NaN</td>\n",
       "      <td>NaN</td>\n",
       "      <td>NaN</td>\n",
       "    </tr>\n",
       "  </tbody>\n",
       "</table>\n",
       "<p>3 rows × 27 columns</p>\n",
       "</div>"
      ],
      "text/plain": [
       "                        open      close        low       high    volume  \\\n",
       "symbol date                                                               \n",
       "AAPL   2010-01-04  27.428730  27.503268  27.293790  27.566240  123432.4   \n",
       "       2010-01-05  27.579091  27.550818  27.405597  27.706320  150476.2   \n",
       "       2010-01-06  27.550818  27.112585  27.084312  27.660055  138040.0   \n",
       "\n",
       "                    dollar_vol  dollar_vol_rank  rsi  bb_high  bb_low  ...  \\\n",
       "symbol date                                                            ...   \n",
       "AAPL   2010-01-04  3394.794352              1.0  NaN      NaN     NaN  ...   \n",
       "       2010-01-05  4145.742393              1.0  NaN      NaN     NaN  ...   \n",
       "       2010-01-06  3742.621292              1.0  NaN      NaN     NaN  ...   \n",
       "\n",
       "                   r10  r21  r42  r63  r01dec  r05dec  r10dec  r21dec  r42dec  \\\n",
       "symbol date                                                                     \n",
       "AAPL   2010-01-04  NaN  NaN  NaN  NaN     NaN     NaN     NaN     NaN     NaN   \n",
       "       2010-01-05  NaN  NaN  NaN  NaN     5.0     NaN     NaN     NaN     NaN   \n",
       "       2010-01-06  NaN  NaN  NaN  NaN     1.0     NaN     NaN     NaN     NaN   \n",
       "\n",
       "                   r63dec  \n",
       "symbol date                \n",
       "AAPL   2010-01-04     NaN  \n",
       "       2010-01-05     NaN  \n",
       "       2010-01-06     NaN  \n",
       "\n",
       "[3 rows x 27 columns]"
      ]
     },
     "execution_count": 107,
     "metadata": {},
     "output_type": "execute_result"
    }
   ],
   "source": [
    "prices.head(3)"
   ]
  },
  {
   "cell_type": "markdown",
   "metadata": {},
   "source": [
    "### Daily sector return deciles\n"
   ]
  },
  {
   "cell_type": "code",
   "execution_count": 108,
   "metadata": {
    "ExecuteTime": {
     "end_time": "2021-02-25T02:38:20.308961Z",
     "start_time": "2021-02-25T02:36:01.527108Z"
    },
    "scrolled": false
   },
   "outputs": [],
   "source": [
    "for t in T:\n",
    "    prices[f'r{t:02}q_sector'] = (prices\n",
    "                                  .groupby(['date', 'sector'])[f'r{t:02}']\n",
    "                                  .transform(lambda x: pd.qcut(x,\n",
    "                                                               q=5,\n",
    "                                                               labels=False,\n",
    "                                                               duplicates='drop')))"
   ]
  },
  {
   "cell_type": "markdown",
   "metadata": {},
   "source": [
    "### Compute Forward Returns\n"
   ]
  },
  {
   "cell_type": "code",
   "execution_count": 109,
   "metadata": {
    "ExecuteTime": {
     "end_time": "2021-02-25T02:38:20.826643Z",
     "start_time": "2021-02-25T02:38:20.309989Z"
    }
   },
   "outputs": [],
   "source": [
    "for t in [1, 5, 21]:\n",
    "    prices[f'r{t:02}_fwd'] = prices.groupby(\n",
    "        level='symbol')[f'r{t:02}'].shift(-t)"
   ]
  },
  {
   "cell_type": "markdown",
   "metadata": {},
   "source": [
    "## Remove outliers\n"
   ]
  },
  {
   "cell_type": "code",
   "execution_count": 110,
   "metadata": {},
   "outputs": [
    {
     "data": {
      "text/html": [
       "<div>\n",
       "<style scoped>\n",
       "    .dataframe tbody tr th:only-of-type {\n",
       "        vertical-align: middle;\n",
       "    }\n",
       "\n",
       "    .dataframe tbody tr th {\n",
       "        vertical-align: top;\n",
       "    }\n",
       "\n",
       "    .dataframe thead th {\n",
       "        text-align: right;\n",
       "    }\n",
       "</style>\n",
       "<table border=\"1\" class=\"dataframe\">\n",
       "  <thead>\n",
       "    <tr style=\"text-align: right;\">\n",
       "      <th></th>\n",
       "      <th></th>\n",
       "      <th>open</th>\n",
       "      <th>close</th>\n",
       "      <th>low</th>\n",
       "      <th>high</th>\n",
       "      <th>volume</th>\n",
       "      <th>dollar_vol</th>\n",
       "      <th>dollar_vol_rank</th>\n",
       "      <th>rsi</th>\n",
       "      <th>bb_high</th>\n",
       "      <th>bb_low</th>\n",
       "      <th>...</th>\n",
       "      <th>r63dec</th>\n",
       "      <th>r01q_sector</th>\n",
       "      <th>r05q_sector</th>\n",
       "      <th>r10q_sector</th>\n",
       "      <th>r21q_sector</th>\n",
       "      <th>r42q_sector</th>\n",
       "      <th>r63q_sector</th>\n",
       "      <th>r01_fwd</th>\n",
       "      <th>r05_fwd</th>\n",
       "      <th>r21_fwd</th>\n",
       "    </tr>\n",
       "    <tr>\n",
       "      <th>symbol</th>\n",
       "      <th>date</th>\n",
       "      <th></th>\n",
       "      <th></th>\n",
       "      <th></th>\n",
       "      <th></th>\n",
       "      <th></th>\n",
       "      <th></th>\n",
       "      <th></th>\n",
       "      <th></th>\n",
       "      <th></th>\n",
       "      <th></th>\n",
       "      <th></th>\n",
       "      <th></th>\n",
       "      <th></th>\n",
       "      <th></th>\n",
       "      <th></th>\n",
       "      <th></th>\n",
       "      <th></th>\n",
       "      <th></th>\n",
       "      <th></th>\n",
       "      <th></th>\n",
       "      <th></th>\n",
       "    </tr>\n",
       "  </thead>\n",
       "  <tbody>\n",
       "    <tr>\n",
       "      <th rowspan=\"3\" valign=\"top\">AAPL</th>\n",
       "      <th>2010-01-04</th>\n",
       "      <td>27.428730</td>\n",
       "      <td>27.503268</td>\n",
       "      <td>27.293790</td>\n",
       "      <td>27.566240</td>\n",
       "      <td>123432.4</td>\n",
       "      <td>3394.794352</td>\n",
       "      <td>1.0</td>\n",
       "      <td>NaN</td>\n",
       "      <td>NaN</td>\n",
       "      <td>NaN</td>\n",
       "      <td>...</td>\n",
       "      <td>NaN</td>\n",
       "      <td>NaN</td>\n",
       "      <td>NaN</td>\n",
       "      <td>NaN</td>\n",
       "      <td>NaN</td>\n",
       "      <td>NaN</td>\n",
       "      <td>NaN</td>\n",
       "      <td>0.001729</td>\n",
       "      <td>-0.018223</td>\n",
       "      <td>-0.069062</td>\n",
       "    </tr>\n",
       "    <tr>\n",
       "      <th>2010-01-05</th>\n",
       "      <td>27.579091</td>\n",
       "      <td>27.550818</td>\n",
       "      <td>27.405597</td>\n",
       "      <td>27.706320</td>\n",
       "      <td>150476.2</td>\n",
       "      <td>4145.742393</td>\n",
       "      <td>1.0</td>\n",
       "      <td>NaN</td>\n",
       "      <td>NaN</td>\n",
       "      <td>NaN</td>\n",
       "      <td>...</td>\n",
       "      <td>NaN</td>\n",
       "      <td>3.0</td>\n",
       "      <td>NaN</td>\n",
       "      <td>NaN</td>\n",
       "      <td>NaN</td>\n",
       "      <td>NaN</td>\n",
       "      <td>NaN</td>\n",
       "      <td>-0.015906</td>\n",
       "      <td>-0.031066</td>\n",
       "      <td>-0.104161</td>\n",
       "    </tr>\n",
       "    <tr>\n",
       "      <th>2010-01-06</th>\n",
       "      <td>27.550818</td>\n",
       "      <td>27.112585</td>\n",
       "      <td>27.084312</td>\n",
       "      <td>27.660055</td>\n",
       "      <td>138040.0</td>\n",
       "      <td>3742.621292</td>\n",
       "      <td>1.0</td>\n",
       "      <td>NaN</td>\n",
       "      <td>NaN</td>\n",
       "      <td>NaN</td>\n",
       "      <td>...</td>\n",
       "      <td>NaN</td>\n",
       "      <td>0.0</td>\n",
       "      <td>NaN</td>\n",
       "      <td>NaN</td>\n",
       "      <td>NaN</td>\n",
       "      <td>NaN</td>\n",
       "      <td>NaN</td>\n",
       "      <td>-0.001849</td>\n",
       "      <td>-0.001517</td>\n",
       "      <td>-0.073518</td>\n",
       "    </tr>\n",
       "  </tbody>\n",
       "</table>\n",
       "<p>3 rows × 36 columns</p>\n",
       "</div>"
      ],
      "text/plain": [
       "                        open      close        low       high    volume  \\\n",
       "symbol date                                                               \n",
       "AAPL   2010-01-04  27.428730  27.503268  27.293790  27.566240  123432.4   \n",
       "       2010-01-05  27.579091  27.550818  27.405597  27.706320  150476.2   \n",
       "       2010-01-06  27.550818  27.112585  27.084312  27.660055  138040.0   \n",
       "\n",
       "                    dollar_vol  dollar_vol_rank  rsi  bb_high  bb_low  ...  \\\n",
       "symbol date                                                            ...   \n",
       "AAPL   2010-01-04  3394.794352              1.0  NaN      NaN     NaN  ...   \n",
       "       2010-01-05  4145.742393              1.0  NaN      NaN     NaN  ...   \n",
       "       2010-01-06  3742.621292              1.0  NaN      NaN     NaN  ...   \n",
       "\n",
       "                   r63dec  r01q_sector  r05q_sector  r10q_sector  r21q_sector  \\\n",
       "symbol date                                                                     \n",
       "AAPL   2010-01-04     NaN          NaN          NaN          NaN          NaN   \n",
       "       2010-01-05     NaN          3.0          NaN          NaN          NaN   \n",
       "       2010-01-06     NaN          0.0          NaN          NaN          NaN   \n",
       "\n",
       "                   r42q_sector  r63q_sector   r01_fwd   r05_fwd   r21_fwd  \n",
       "symbol date                                                                \n",
       "AAPL   2010-01-04          NaN          NaN  0.001729 -0.018223 -0.069062  \n",
       "       2010-01-05          NaN          NaN -0.015906 -0.031066 -0.104161  \n",
       "       2010-01-06          NaN          NaN -0.001849 -0.001517 -0.073518  \n",
       "\n",
       "[3 rows x 36 columns]"
      ]
     },
     "execution_count": 110,
     "metadata": {},
     "output_type": "execute_result"
    }
   ],
   "source": [
    "prices.head(3)"
   ]
  },
  {
   "cell_type": "code",
   "execution_count": 111,
   "metadata": {
    "ExecuteTime": {
     "end_time": "2021-02-25T02:38:21.677765Z",
     "start_time": "2021-02-25T02:38:20.827605Z"
    }
   },
   "outputs": [
    {
     "data": {
      "text/html": [
       "<div>\n",
       "<style scoped>\n",
       "    .dataframe tbody tr th:only-of-type {\n",
       "        vertical-align: middle;\n",
       "    }\n",
       "\n",
       "    .dataframe tbody tr th {\n",
       "        vertical-align: top;\n",
       "    }\n",
       "\n",
       "    .dataframe thead th {\n",
       "        text-align: right;\n",
       "    }\n",
       "</style>\n",
       "<table border=\"1\" class=\"dataframe\">\n",
       "  <thead>\n",
       "    <tr style=\"text-align: right;\">\n",
       "      <th></th>\n",
       "      <th>r01</th>\n",
       "      <th>r05</th>\n",
       "      <th>r10</th>\n",
       "      <th>r21</th>\n",
       "      <th>r42</th>\n",
       "      <th>r63</th>\n",
       "    </tr>\n",
       "  </thead>\n",
       "  <tbody>\n",
       "    <tr>\n",
       "      <th>count</th>\n",
       "      <td>2.003775e+06</td>\n",
       "      <td>1.999775e+06</td>\n",
       "      <td>1.994775e+06</td>\n",
       "      <td>1.983775e+06</td>\n",
       "      <td>1.962775e+06</td>\n",
       "      <td>1.941775e+06</td>\n",
       "    </tr>\n",
       "    <tr>\n",
       "      <th>mean</th>\n",
       "      <td>7.519751e-04</td>\n",
       "      <td>3.726962e-03</td>\n",
       "      <td>7.353932e-03</td>\n",
       "      <td>1.555927e-02</td>\n",
       "      <td>3.113691e-02</td>\n",
       "      <td>4.619119e-02</td>\n",
       "    </tr>\n",
       "    <tr>\n",
       "      <th>std</th>\n",
       "      <td>2.166262e-02</td>\n",
       "      <td>4.791746e-02</td>\n",
       "      <td>6.579895e-02</td>\n",
       "      <td>9.467552e-02</td>\n",
       "      <td>1.325751e-01</td>\n",
       "      <td>1.618423e-01</td>\n",
       "    </tr>\n",
       "    <tr>\n",
       "      <th>min</th>\n",
       "      <td>-8.757416e-01</td>\n",
       "      <td>-8.768476e-01</td>\n",
       "      <td>-8.778415e-01</td>\n",
       "      <td>-8.802285e-01</td>\n",
       "      <td>-8.867366e-01</td>\n",
       "      <td>-8.863481e-01</td>\n",
       "    </tr>\n",
       "    <tr>\n",
       "      <th>25%</th>\n",
       "      <td>-8.088407e-03</td>\n",
       "      <td>-1.721664e-02</td>\n",
       "      <td>-2.291896e-02</td>\n",
       "      <td>-3.045918e-02</td>\n",
       "      <td>-3.531712e-02</td>\n",
       "      <td>-3.696833e-02</td>\n",
       "    </tr>\n",
       "    <tr>\n",
       "      <th>50%</th>\n",
       "      <td>6.561680e-04</td>\n",
       "      <td>3.702235e-03</td>\n",
       "      <td>7.173181e-03</td>\n",
       "      <td>1.503253e-02</td>\n",
       "      <td>2.899023e-02</td>\n",
       "      <td>4.217809e-02</td>\n",
       "    </tr>\n",
       "    <tr>\n",
       "      <th>75%</th>\n",
       "      <td>9.509191e-03</td>\n",
       "      <td>2.440601e-02</td>\n",
       "      <td>3.707177e-02</td>\n",
       "      <td>5.927618e-02</td>\n",
       "      <td>9.305628e-02</td>\n",
       "      <td>1.219666e-01</td>\n",
       "    </tr>\n",
       "    <tr>\n",
       "      <th>max</th>\n",
       "      <td>1.216425e+01</td>\n",
       "      <td>1.252657e+01</td>\n",
       "      <td>1.252657e+01</td>\n",
       "      <td>1.252657e+01</td>\n",
       "      <td>1.181643e+01</td>\n",
       "      <td>1.166968e+01</td>\n",
       "    </tr>\n",
       "  </tbody>\n",
       "</table>\n",
       "</div>"
      ],
      "text/plain": [
       "                r01           r05           r10           r21           r42  \\\n",
       "count  2.003775e+06  1.999775e+06  1.994775e+06  1.983775e+06  1.962775e+06   \n",
       "mean   7.519751e-04  3.726962e-03  7.353932e-03  1.555927e-02  3.113691e-02   \n",
       "std    2.166262e-02  4.791746e-02  6.579895e-02  9.467552e-02  1.325751e-01   \n",
       "min   -8.757416e-01 -8.768476e-01 -8.778415e-01 -8.802285e-01 -8.867366e-01   \n",
       "25%   -8.088407e-03 -1.721664e-02 -2.291896e-02 -3.045918e-02 -3.531712e-02   \n",
       "50%    6.561680e-04  3.702235e-03  7.173181e-03  1.503253e-02  2.899023e-02   \n",
       "75%    9.509191e-03  2.440601e-02  3.707177e-02  5.927618e-02  9.305628e-02   \n",
       "max    1.216425e+01  1.252657e+01  1.252657e+01  1.252657e+01  1.181643e+01   \n",
       "\n",
       "                r63  \n",
       "count  1.941775e+06  \n",
       "mean   4.619119e-02  \n",
       "std    1.618423e-01  \n",
       "min   -8.863481e-01  \n",
       "25%   -3.696833e-02  \n",
       "50%    4.217809e-02  \n",
       "75%    1.219666e-01  \n",
       "max    1.166968e+01  "
      ]
     },
     "execution_count": 111,
     "metadata": {},
     "output_type": "execute_result"
    }
   ],
   "source": [
    "prices[[f'r{t:02}' for t in T]].describe()"
   ]
  },
  {
   "cell_type": "markdown",
   "metadata": {},
   "source": [
    "We remove daily returns above 100 percent as these are more likely to represent data errors; we are using the 100 percent cutoff here in a somewhat ad-hoc fashion; you would want to apply more careful exploratory and historical analysis to decide which assets are truly not representative of the sample period.\n"
   ]
  },
  {
   "cell_type": "code",
   "execution_count": 112,
   "metadata": {
    "ExecuteTime": {
     "end_time": "2021-02-25T02:38:21.686263Z",
     "start_time": "2021-02-25T02:38:21.679059Z"
    }
   },
   "outputs": [],
   "source": [
    "outliers = prices[prices.r01 > 1].index.get_level_values('symbol').unique()"
   ]
  },
  {
   "cell_type": "code",
   "execution_count": 113,
   "metadata": {
    "ExecuteTime": {
     "end_time": "2021-02-25T02:38:31.520250Z",
     "start_time": "2021-02-25T02:38:21.687319Z"
    }
   },
   "outputs": [],
   "source": [
    "prices = prices.drop(outliers, level='symbol')"
   ]
  },
  {
   "cell_type": "markdown",
   "metadata": {},
   "source": [
    "## Create time and sector dummy variables\n"
   ]
  },
  {
   "cell_type": "code",
   "execution_count": 114,
   "metadata": {
    "ExecuteTime": {
     "end_time": "2021-02-25T02:38:31.918710Z",
     "start_time": "2021-02-25T02:38:31.521204Z"
    }
   },
   "outputs": [],
   "source": [
    "prices['year'] = prices.index.get_level_values('date').year\n",
    "prices['month'] = prices.index.get_level_values('date').month\n",
    "prices['weekday'] = prices.index.get_level_values('date').weekday"
   ]
  },
  {
   "cell_type": "markdown",
   "metadata": {},
   "source": [
    "## Store Model Data\n"
   ]
  },
  {
   "cell_type": "code",
   "execution_count": 115,
   "metadata": {
    "ExecuteTime": {
     "end_time": "2021-02-25T02:38:32.137143Z",
     "start_time": "2021-02-25T02:38:31.920222Z"
    },
    "scrolled": false
   },
   "outputs": [
    {
     "name": "stdout",
     "output_type": "stream",
     "text": [
      "<class 'pandas.core.frame.DataFrame'>\n",
      "MultiIndex: 1994931 entries, ('AAPL', Timestamp('2010-01-04 00:00:00')) to ('NTCT', Timestamp('2017-12-29 00:00:00'))\n",
      "Data columns (total 39 columns):\n",
      " #   Column           Non-Null Count    Dtype  \n",
      "---  ------           --------------    -----  \n",
      " 0   open             1994931 non-null  float64\n",
      " 1   close            1994931 non-null  float64\n",
      " 2   low              1994931 non-null  float64\n",
      " 3   high             1994931 non-null  float64\n",
      " 4   volume           1994931 non-null  float64\n",
      " 5   dollar_vol       1994931 non-null  float64\n",
      " 6   dollar_vol_rank  1994931 non-null  float64\n",
      " 7   rsi              1981001 non-null  float64\n",
      " 8   bb_high          1976026 non-null  float64\n",
      " 9   bb_low           1976022 non-null  float64\n",
      " 10  NATR             1981001 non-null  float64\n",
      " 11  ATR              1981001 non-null  float64\n",
      " 12  PPO              1970056 non-null  float64\n",
      " 13  MACD             1962096 non-null  float64\n",
      " 14  sector           1994931 non-null  int64  \n",
      " 15  r01              1993936 non-null  float64\n",
      " 16  r05              1989956 non-null  float64\n",
      " 17  r10              1984981 non-null  float64\n",
      " 18  r21              1974036 non-null  float64\n",
      " 19  r42              1953141 non-null  float64\n",
      " 20  r63              1932246 non-null  float64\n",
      " 21  r01dec           1993933 non-null  float64\n",
      " 22  r05dec           1989956 non-null  float64\n",
      " 23  r10dec           1984981 non-null  float64\n",
      " 24  r21dec           1974036 non-null  float64\n",
      " 25  r42dec           1953141 non-null  float64\n",
      " 26  r63dec           1932246 non-null  float64\n",
      " 27  r01q_sector      1993933 non-null  float64\n",
      " 28  r05q_sector      1989956 non-null  float64\n",
      " 29  r10q_sector      1984981 non-null  float64\n",
      " 30  r21q_sector      1974036 non-null  float64\n",
      " 31  r42q_sector      1953141 non-null  float64\n",
      " 32  r63q_sector      1932246 non-null  float64\n",
      " 33  r01_fwd          1993936 non-null  float64\n",
      " 34  r05_fwd          1989956 non-null  float64\n",
      " 35  r21_fwd          1974036 non-null  float64\n",
      " 36  year             1994931 non-null  int32  \n",
      " 37  month            1994931 non-null  int32  \n",
      " 38  weekday          1994931 non-null  int32  \n",
      "dtypes: float64(35), int32(3), int64(1)\n",
      "memory usage: 579.1+ MB\n"
     ]
    }
   ],
   "source": [
    "prices.info(show_counts=True)"
   ]
  },
  {
   "cell_type": "code",
   "execution_count": 116,
   "metadata": {
    "ExecuteTime": {
     "end_time": "2021-02-25T02:38:32.822413Z",
     "start_time": "2021-02-25T02:38:32.138150Z"
    }
   },
   "outputs": [],
   "source": [
    "prices.drop(['open', 'close', 'low', 'high', 'volume'],\n",
    "            axis=1).to_hdf('data.h5', 'model_data')"
   ]
  },
  {
   "cell_type": "code",
   "execution_count": 117,
   "metadata": {},
   "outputs": [
    {
     "data": {
      "text/html": [
       "<div>\n",
       "<style scoped>\n",
       "    .dataframe tbody tr th:only-of-type {\n",
       "        vertical-align: middle;\n",
       "    }\n",
       "\n",
       "    .dataframe tbody tr th {\n",
       "        vertical-align: top;\n",
       "    }\n",
       "\n",
       "    .dataframe thead th {\n",
       "        text-align: right;\n",
       "    }\n",
       "</style>\n",
       "<table border=\"1\" class=\"dataframe\">\n",
       "  <thead>\n",
       "    <tr style=\"text-align: right;\">\n",
       "      <th></th>\n",
       "      <th></th>\n",
       "      <th>open</th>\n",
       "      <th>close</th>\n",
       "      <th>low</th>\n",
       "      <th>high</th>\n",
       "      <th>volume</th>\n",
       "      <th>dollar_vol</th>\n",
       "      <th>dollar_vol_rank</th>\n",
       "      <th>rsi</th>\n",
       "      <th>bb_high</th>\n",
       "      <th>bb_low</th>\n",
       "      <th>...</th>\n",
       "      <th>r10q_sector</th>\n",
       "      <th>r21q_sector</th>\n",
       "      <th>r42q_sector</th>\n",
       "      <th>r63q_sector</th>\n",
       "      <th>r01_fwd</th>\n",
       "      <th>r05_fwd</th>\n",
       "      <th>r21_fwd</th>\n",
       "      <th>year</th>\n",
       "      <th>month</th>\n",
       "      <th>weekday</th>\n",
       "    </tr>\n",
       "    <tr>\n",
       "      <th>symbol</th>\n",
       "      <th>date</th>\n",
       "      <th></th>\n",
       "      <th></th>\n",
       "      <th></th>\n",
       "      <th></th>\n",
       "      <th></th>\n",
       "      <th></th>\n",
       "      <th></th>\n",
       "      <th></th>\n",
       "      <th></th>\n",
       "      <th></th>\n",
       "      <th></th>\n",
       "      <th></th>\n",
       "      <th></th>\n",
       "      <th></th>\n",
       "      <th></th>\n",
       "      <th></th>\n",
       "      <th></th>\n",
       "      <th></th>\n",
       "      <th></th>\n",
       "      <th></th>\n",
       "      <th></th>\n",
       "    </tr>\n",
       "  </thead>\n",
       "  <tbody>\n",
       "    <tr>\n",
       "      <th rowspan=\"3\" valign=\"top\">AAPL</th>\n",
       "      <th>2010-01-04</th>\n",
       "      <td>27.428730</td>\n",
       "      <td>27.503268</td>\n",
       "      <td>27.293790</td>\n",
       "      <td>27.566240</td>\n",
       "      <td>123432.4</td>\n",
       "      <td>3394.794352</td>\n",
       "      <td>1.0</td>\n",
       "      <td>NaN</td>\n",
       "      <td>NaN</td>\n",
       "      <td>NaN</td>\n",
       "      <td>...</td>\n",
       "      <td>NaN</td>\n",
       "      <td>NaN</td>\n",
       "      <td>NaN</td>\n",
       "      <td>NaN</td>\n",
       "      <td>0.001729</td>\n",
       "      <td>-0.018223</td>\n",
       "      <td>-0.069062</td>\n",
       "      <td>2010</td>\n",
       "      <td>1</td>\n",
       "      <td>0</td>\n",
       "    </tr>\n",
       "    <tr>\n",
       "      <th>2010-01-05</th>\n",
       "      <td>27.579091</td>\n",
       "      <td>27.550818</td>\n",
       "      <td>27.405597</td>\n",
       "      <td>27.706320</td>\n",
       "      <td>150476.2</td>\n",
       "      <td>4145.742393</td>\n",
       "      <td>1.0</td>\n",
       "      <td>NaN</td>\n",
       "      <td>NaN</td>\n",
       "      <td>NaN</td>\n",
       "      <td>...</td>\n",
       "      <td>NaN</td>\n",
       "      <td>NaN</td>\n",
       "      <td>NaN</td>\n",
       "      <td>NaN</td>\n",
       "      <td>-0.015906</td>\n",
       "      <td>-0.031066</td>\n",
       "      <td>-0.104161</td>\n",
       "      <td>2010</td>\n",
       "      <td>1</td>\n",
       "      <td>1</td>\n",
       "    </tr>\n",
       "    <tr>\n",
       "      <th>2010-01-06</th>\n",
       "      <td>27.550818</td>\n",
       "      <td>27.112585</td>\n",
       "      <td>27.084312</td>\n",
       "      <td>27.660055</td>\n",
       "      <td>138040.0</td>\n",
       "      <td>3742.621292</td>\n",
       "      <td>1.0</td>\n",
       "      <td>NaN</td>\n",
       "      <td>NaN</td>\n",
       "      <td>NaN</td>\n",
       "      <td>...</td>\n",
       "      <td>NaN</td>\n",
       "      <td>NaN</td>\n",
       "      <td>NaN</td>\n",
       "      <td>NaN</td>\n",
       "      <td>-0.001849</td>\n",
       "      <td>-0.001517</td>\n",
       "      <td>-0.073518</td>\n",
       "      <td>2010</td>\n",
       "      <td>1</td>\n",
       "      <td>2</td>\n",
       "    </tr>\n",
       "  </tbody>\n",
       "</table>\n",
       "<p>3 rows × 39 columns</p>\n",
       "</div>"
      ],
      "text/plain": [
       "                        open      close        low       high    volume  \\\n",
       "symbol date                                                               \n",
       "AAPL   2010-01-04  27.428730  27.503268  27.293790  27.566240  123432.4   \n",
       "       2010-01-05  27.579091  27.550818  27.405597  27.706320  150476.2   \n",
       "       2010-01-06  27.550818  27.112585  27.084312  27.660055  138040.0   \n",
       "\n",
       "                    dollar_vol  dollar_vol_rank  rsi  bb_high  bb_low  ...  \\\n",
       "symbol date                                                            ...   \n",
       "AAPL   2010-01-04  3394.794352              1.0  NaN      NaN     NaN  ...   \n",
       "       2010-01-05  4145.742393              1.0  NaN      NaN     NaN  ...   \n",
       "       2010-01-06  3742.621292              1.0  NaN      NaN     NaN  ...   \n",
       "\n",
       "                   r10q_sector  r21q_sector  r42q_sector  r63q_sector  \\\n",
       "symbol date                                                             \n",
       "AAPL   2010-01-04          NaN          NaN          NaN          NaN   \n",
       "       2010-01-05          NaN          NaN          NaN          NaN   \n",
       "       2010-01-06          NaN          NaN          NaN          NaN   \n",
       "\n",
       "                    r01_fwd   r05_fwd   r21_fwd  year  month  weekday  \n",
       "symbol date                                                            \n",
       "AAPL   2010-01-04  0.001729 -0.018223 -0.069062  2010      1        0  \n",
       "       2010-01-05 -0.015906 -0.031066 -0.104161  2010      1        1  \n",
       "       2010-01-06 -0.001849 -0.001517 -0.073518  2010      1        2  \n",
       "\n",
       "[3 rows x 39 columns]"
      ]
     },
     "execution_count": 117,
     "metadata": {},
     "output_type": "execute_result"
    }
   ],
   "source": [
    "prices.head(3)"
   ]
  },
  {
   "cell_type": "code",
   "execution_count": null,
   "metadata": {},
   "outputs": [],
   "source": []
  }
 ],
 "metadata": {
  "kernelspec": {
   "display_name": "meanreversionpy312",
   "language": "python",
   "name": "python3"
  },
  "language_info": {
   "codemirror_mode": {
    "name": "ipython",
    "version": 3
   },
   "file_extension": ".py",
   "mimetype": "text/x-python",
   "name": "python",
   "nbconvert_exporter": "python",
   "pygments_lexer": "ipython3",
   "version": "3.12.2"
  },
  "toc": {
   "base_numbering": 1,
   "nav_menu": {},
   "number_sections": true,
   "sideBar": true,
   "skip_h1_title": true,
   "title_cell": "Table of Contents",
   "title_sidebar": "Contents",
   "toc_cell": false,
   "toc_position": {},
   "toc_section_display": true,
   "toc_window_display": true
  }
 },
 "nbformat": 4,
 "nbformat_minor": 2
}
